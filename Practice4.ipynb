{
 "cells": [
  {
   "cell_type": "markdown",
   "metadata": {},
   "source": [
    "# 1."
   ]
  },
  {
   "cell_type": "code",
   "execution_count": 39,
   "metadata": {},
   "outputs": [
    {
     "name": "stdout",
     "output_type": "stream",
     "text": [
      "covid19.csv 저장 완료\n"
     ]
    }
   ],
   "source": [
    "import pandas as pd\n",
    "\n",
    "df = pd.read_excel('./corona.xlsx', header=0, index_col=0)\n",
    "\n",
    "df['한국'] = [1, 1, 2, 3, 4, 7]\n",
    "\n",
    "df.to_csv(\"./covid19.csv\", encoding='utf-8-sig')\n",
    "\n",
    "print(\"covid19.csv 저장 완료\")"
   ]
  },
  {
   "cell_type": "code",
   "execution_count": 40,
   "metadata": {},
   "outputs": [
    {
     "name": "stdout",
     "output_type": "stream",
     "text": [
      "covid19_new.xlsx 저장 완료\n"
     ]
    }
   ],
   "source": [
    "import pandas as pd\n",
    "\n",
    "df = pd.read_csv('./covid19.csv', header=0, index_col=0)\n",
    "\n",
    "writer = pd.ExcelWriter(\"./covid19_new.xlsx\")\n",
    "df.to_excel(writer, sheet_name=\"sheet1\")\n",
    "df['중국'].to_excel(writer, sheet_name=\"sheet2\")\n",
    "df['타국'].to_excel(writer, sheet_name=\"sheet3\")\n",
    "df['한국'].to_excel(writer, sheet_name=\"sheet4\")\n",
    "writer.save()\n",
    "\n",
    "print(\"covid19_new.xlsx 저장 완료\")"
   ]
  },
  {
   "cell_type": "markdown",
   "metadata": {},
   "source": [
    "# 2."
   ]
  },
  {
   "cell_type": "code",
   "execution_count": 70,
   "metadata": {},
   "outputs": [
    {
     "name": "stdout",
     "output_type": "stream",
     "text": [
      "auto-mpg-2.csv 저장 완료\n"
     ]
    }
   ],
   "source": [
    "import pandas as pd\n",
    "\n",
    "df = pd.read_csv('./auto-mpg.csv', names=['mpg(연비)', 'cylinders(실린더수)', 'displacement(배기량)', \n",
    "                   'horsepower(출력)', 'weight(차중)', 'acceleration(가속능력)',\n",
    "                   'modelYear(출시년도)', 'originNumber(제조국번호)', 'name(모델명)'])\n",
    "\n",
    "df.to_csv(\"./auto-mpg-2.csv\", encoding='utf-8-sig')\n",
    "\n",
    "print(\"auto-mpg-2.csv 저장 완료\")"
   ]
  },
  {
   "cell_type": "code",
   "execution_count": 73,
   "metadata": {},
   "outputs": [
    {
     "data": {
      "text/plain": [
       "309                vw rabbit\n",
       "310    toyota corolla tercel\n",
       "311       chevrolet chevette\n",
       "312               datsun 310\n",
       "313       chevrolet citation\n",
       "               ...          \n",
       "393          ford mustang gl\n",
       "394                vw pickup\n",
       "395            dodge rampage\n",
       "396              ford ranger\n",
       "397               chevy s-10\n",
       "Name: name(모델명), Length: 89, dtype: object"
      ]
     },
     "execution_count": 73,
     "metadata": {},
     "output_type": "execute_result"
    }
   ],
   "source": [
    "df['name(모델명)'][df['modelYear(출시년도)'] >= 80]"
   ]
  },
  {
   "cell_type": "code",
   "execution_count": 71,
   "metadata": {},
   "outputs": [
    {
     "name": "stdout",
     "output_type": "stream",
     "text": [
      "7.815984312565782\n"
     ]
    }
   ],
   "source": [
    "df = pd.read_csv('./auto-mpg-2.csv')\n",
    "\n",
    "print(df['mpg(연비)'].std())\n",
    "# print(df['horsepower(출력)'].std())"
   ]
  },
  {
   "cell_type": "markdown",
   "metadata": {},
   "source": [
    "#### horsepower는 데이터 가운데 ?가 있어 숫자로 계산이 되지 않는다."
   ]
  },
  {
   "cell_type": "code",
   "execution_count": 72,
   "metadata": {},
   "outputs": [
    {
     "name": "stdout",
     "output_type": "stream",
     "text": [
      "auto-mpg-3.csv 저장 완료\n"
     ]
    }
   ],
   "source": [
    "ndf = df.sort_values(by='modelYear(출시년도)', ascending=False)\n",
    "\n",
    "ndf.to_csv(\"./auto-mpg-3.csv\", encoding='utf-8-sig')\n",
    "\n",
    "print(\"auto-mpg-3.csv 저장 완료\")"
   ]
  }
 ],
 "metadata": {
  "kernelspec": {
   "display_name": "Python 3",
   "language": "python",
   "name": "python3"
  },
  "language_info": {
   "codemirror_mode": {
    "name": "ipython",
    "version": 3
   },
   "file_extension": ".py",
   "mimetype": "text/x-python",
   "name": "python",
   "nbconvert_exporter": "python",
   "pygments_lexer": "ipython3",
   "version": "3.8.3"
  }
 },
 "nbformat": 4,
 "nbformat_minor": 4
}
