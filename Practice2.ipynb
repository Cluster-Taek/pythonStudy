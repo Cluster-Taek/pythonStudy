{
 "cells": [
  {
   "cell_type": "code",
   "execution_count": null,
   "metadata": {},
   "outputs": [],
   "source": [
    "import random\n",
    "import time\n",
    "import datetime\n",
    "import Practice2_module as m"
   ]
  },
  {
   "cell_type": "markdown",
   "metadata": {},
   "source": [
    "### Number 1"
   ]
  },
  {
   "cell_type": "code",
   "execution_count": 8,
   "metadata": {},
   "outputs": [
    {
     "name": "stdout",
     "output_type": "stream",
     "text": [
      "[3, 16, 17, 30, 33, 39] \n",
      "\n"
     ]
    }
   ],
   "source": [
    "list = []\n",
    "\n",
    "for i in range(45) :\n",
    "    list.append(i + 1)\n",
    "\n",
    "lotto = random.sample(list, 6)\n",
    "lotto.sort()\n",
    "print(lotto,\"\\n\")"
   ]
  },
  {
   "cell_type": "markdown",
   "metadata": {},
   "source": [
    "### Number 2"
   ]
  },
  {
   "cell_type": "code",
   "execution_count": 9,
   "metadata": {},
   "outputs": [
    {
     "name": "stdout",
     "output_type": "stream",
     "text": [
      "숫자, 연산자, 숫자 입력\n"
     ]
    },
    {
     "name": "stdin",
     "output_type": "stream",
     "text": [
      " 45\n",
      " /\n",
      " 0\n"
     ]
    },
    {
     "name": "stdout",
     "output_type": "stream",
     "text": [
      "0으로는 나눌 수 없습니다.\n"
     ]
    },
    {
     "name": "stdin",
     "output_type": "stream",
     "text": [
      "그만하시겠습니까? y/n :  ㅜ\n"
     ]
    },
    {
     "name": "stdout",
     "output_type": "stream",
     "text": [
      "숫자, 연산자, 숫자 입력\n"
     ]
    },
    {
     "name": "stdin",
     "output_type": "stream",
     "text": [
      " 34\n",
      " *\n",
      " 123\n"
     ]
    },
    {
     "name": "stdout",
     "output_type": "stream",
     "text": [
      "34 * 123 = 4182\n"
     ]
    },
    {
     "name": "stdin",
     "output_type": "stream",
     "text": [
      "그만하시겠습니까? y/n :  ㅛ\n"
     ]
    },
    {
     "name": "stdout",
     "output_type": "stream",
     "text": [
      "숫자, 연산자, 숫자 입력\n"
     ]
    },
    {
     "name": "stdin",
     "output_type": "stream",
     "text": [
      " 24\n",
      " -\n",
      " 54\n"
     ]
    },
    {
     "name": "stdout",
     "output_type": "stream",
     "text": [
      "24 - 54 = -30\n"
     ]
    },
    {
     "name": "stdin",
     "output_type": "stream",
     "text": [
      "그만하시겠습니까? y/n :  y\n"
     ]
    }
   ],
   "source": [
    "if __name__ == \"__main__\" :\n",
    "    while 1 :\n",
    "        list = m.inputNum()\n",
    "        m.caculate(list[0],list[1],list[2])\n",
    "        s = input(\"그만하시겠습니까? y/n : \")\n",
    "        if(s == \"y\") :\n",
    "            break"
   ]
  },
  {
   "cell_type": "markdown",
   "metadata": {},
   "source": [
    "### Number 3"
   ]
  },
  {
   "cell_type": "code",
   "execution_count": 10,
   "metadata": {},
   "outputs": [
    {
     "name": "stdin",
     "output_type": "stream",
     "text": [
      "3. 문자열 입력 :  python\n"
     ]
    },
    {
     "name": "stdout",
     "output_type": "stream",
     "text": [
      "문자열의 개수 : 6\n",
      "가장 큰 문자열 : y\n",
      "뒤집은 문자열 : nohtyp \n",
      "\n"
     ]
    }
   ],
   "source": [
    "a = input(\"3. 문자열 입력 : \")\n",
    "print(\"문자열의 개수 :\",len(a))\n",
    "print(\"가장 큰 문자열 :\", max(a))\n",
    "print(\"뒤집은 문자열 :\", a[::-1],\"\\n\")"
   ]
  },
  {
   "cell_type": "markdown",
   "metadata": {},
   "source": [
    "### Number 4"
   ]
  },
  {
   "cell_type": "code",
   "execution_count": 11,
   "metadata": {},
   "outputs": [
    {
     "name": "stdout",
     "output_type": "stream",
     "text": [
      "현재 : 2020년09월21일 11시47분20초\n",
      "미래 : 2020년11월09일 12시55분27초 \n",
      "\n"
     ]
    }
   ],
   "source": [
    "dt = datetime.datetime.now()\n",
    "p = datetime.timedelta(days=49, hours=1, minutes=8, seconds=7)\n",
    "print(\"현재 :\", dt.strftime(\"%Y년%m월%d일 %H시%M분%S초\"))\n",
    "print(\"미래 :\", (dt + p).strftime(\"%Y년%m월%d일 %H시%M분%S초\"),\"\\n\")"
   ]
  },
  {
   "cell_type": "markdown",
   "metadata": {},
   "source": [
    "### Number 5"
   ]
  },
  {
   "cell_type": "code",
   "execution_count": 13,
   "metadata": {},
   "outputs": [
    {
     "name": "stdout",
     "output_type": "stream",
     "text": [
      "\n",
      "MENU #단어추가 #전체조회 #영어로검색 #한글로검색 #종료\n"
     ]
    },
    {
     "name": "stdin",
     "output_type": "stream",
     "text": [
      "\n",
      "# :  단어추가\n",
      "추가(Eng:Kor) :  computer\n"
     ]
    },
    {
     "name": "stdout",
     "output_type": "stream",
     "text": [
      "잘못 입력하셨습니다.\n",
      "\n",
      "MENU #단어추가 #전체조회 #영어로검색 #한글로검색 #종료\n"
     ]
    },
    {
     "name": "stdin",
     "output_type": "stream",
     "text": [
      "\n",
      "# :  단어추가\n",
      "추가(Eng:Kor) :  computer:컴퓨터\n"
     ]
    },
    {
     "name": "stdout",
     "output_type": "stream",
     "text": [
      "저장되었습니다.\n",
      "\n",
      "MENU #단어추가 #전체조회 #영어로검색 #한글로검색 #종료\n"
     ]
    },
    {
     "name": "stdin",
     "output_type": "stream",
     "text": [
      "\n",
      "# :  영어로검색\n",
      "영어 :  computer\n"
     ]
    },
    {
     "name": "stdout",
     "output_type": "stream",
     "text": [
      "한글 : 컴퓨터\n",
      "\n",
      "MENU #단어추가 #전체조회 #영어로검색 #한글로검색 #종료\n"
     ]
    },
    {
     "name": "stdin",
     "output_type": "stream",
     "text": [
      "\n",
      "# :  종료\n"
     ]
    }
   ],
   "source": [
    "if __name__ == \"__main__\" :\n",
    "    voca = {\"apple\": \"사과\", \"banana\": \"바나나\",\"pineapple\": \"파인애플\",\"koptimizer\": \"고광종교수님\"}\n",
    "    m.selectMenu(voca)"
   ]
  },
  {
   "cell_type": "markdown",
   "metadata": {},
   "source": [
    "## 수고하셨습니당~~!"
   ]
  }
 ],
 "metadata": {
  "kernelspec": {
   "display_name": "Python 3",
   "language": "python",
   "name": "python3"
  },
  "language_info": {
   "codemirror_mode": {
    "name": "ipython",
    "version": 3
   },
   "file_extension": ".py",
   "mimetype": "text/x-python",
   "name": "python",
   "nbconvert_exporter": "python",
   "pygments_lexer": "ipython3",
   "version": "3.8.3"
  }
 },
 "nbformat": 4,
 "nbformat_minor": 4
}
